{
 "cells": [
  {
   "attachments": {},
   "cell_type": "markdown",
   "metadata": {},
   "source": [
    "This notebook is intended to show how to install and use the tool Whisper developed by OpenAI. For this notebook i use Python 3.9.9 and Windows OS.\n",
    "\n",
    "##Open AI - Whisper\n",
    "As defined by the [official documentation of Whisper](https://github.com/openai/whisper) \"Whisper is a general-purpose speech recognition model. It is trained on a large dataset of diverse audio and is also a multitasking model that can perform multilingual speech recognition, speech translation, and language identification.\""
   ]
  },
  {
   "attachments": {},
   "cell_type": "markdown",
   "metadata": {},
   "source": [
    "### Required Libraries before Whisper Instalation\n",
    "You will need two complementary libraries [ffmpeg](https://ffmpeg.org/download.html) and [pythorch](https://pytorch.org/)\n",
    "To install Pythorch please be sure to checkout the official webpage to identify the install that best suit you, my case im using:<br>\n",
    "`pip install torch torchvision torchaudio` <br>\n",
    "\n",
    "To install ffmpeg, since i had some issues installing it with Github cloning method, i downloaded manually, here´s a [webpage](https://phoenixnap.com/kb/ffmpeg-windows) that explain this process step by step \n",
    "*Plase be sure to add ffmpeg to the environment variables in Windows.\n",
    "\n",
    "The OpenAI official documentation also recommends to install [HuggingFace] (https://huggingface.co/docs/transformers/installation) "
   ]
  },
  {
   "attachments": {},
   "cell_type": "markdown",
   "metadata": {},
   "source": [
    "### 1.2 Whisper Installation\n",
    "You will need to install:<br>\n",
    "`pip install -U openai-whisper`<br>\n",
    "`pip install git+https://github.com/openai/whisper.git` <br>\n",
    "`pip install setuptools-rust` <br>"
   ]
  },
  {
   "attachments": {},
   "cell_type": "markdown",
   "metadata": {},
   "source": [
    "### 1.3 Whisper model"
   ]
  },
  {
   "attachments": {},
   "cell_type": "markdown",
   "metadata": {},
   "source": [
    "Here´s the info for parameter you´ll need to choose for the model: <br>\n",
    "<img src=\"Model.PNG\" alt= “Modelparameters” width=\"500\" height=\"150\">"
   ]
  },
  {
   "cell_type": "code",
   "execution_count": 12,
   "metadata": {},
   "outputs": [
    {
     "name": "stderr",
     "output_type": "stream",
     "text": [
      "c:\\Users\\ccuartas\\AppData\\Local\\Programs\\Python\\venv_OpenAi\\lib\\site-packages\\whisper\\transcribe.py:114: UserWarning: FP16 is not supported on CPU; using FP32 instead\n",
      "  warnings.warn(\"FP16 is not supported on CPU; using FP32 instead\")\n"
     ]
    },
    {
     "name": "stdout",
     "output_type": "stream",
     "text": [
      " She lost almost six decades when the woman's cosy was open and shameless. That's why, along with her acting title, people always used to add the term sexual symbol. One of the films that made her famous was 1 Million Years Before Christ, in 1966. Her daughters were few, and as she herself recalled, her work was limited to running in a dress that barely covered her body and the middle of dinosaurs. That image would define her for decades. In 1966, she also starred in another adventure film, Fantastic Journey, which would later become a popular television series. Her beauty was undeniable, but she also wanted to be valued for her artistic talent.\n"
     ]
    }
   ],
   "source": [
    "import whisper\n",
    "model = whisper.load_model(\"medium\")\n",
    "result = model.transcribe(\"prueba2.mp3\", task=\"transcribe\", language=\"es\")\n",
    "print(result[\"text\"])"
   ]
  },
  {
   "attachments": {},
   "cell_type": "markdown",
   "metadata": {},
   "source": [
    "Next we will do the same process by in a lower level way"
   ]
  },
  {
   "cell_type": "code",
   "execution_count": 16,
   "metadata": {},
   "outputs": [
    {
     "name": "stdout",
     "output_type": "stream",
     "text": [
      "Detected language: es {'en': 0.06431033462285995, 'zh': 0.0006753414054401219, 'de': 0.0013966881670057774, 'es': 0.9017177224159241, 'ru': 0.0007992238970473409, 'ko': 0.0027548845391720533, 'fr': 0.0007725052419118583, 'ja': 0.0011740651680156589, 'pt': 0.011564787477254868, 'tr': 0.00025775248650461435, 'pl': 0.0005445817369036376, 'ca': 6.362856220221147e-05, 'nl': 0.0004048972041346133, 'ar': 0.0004656464443542063, 'sv': 8.011633326532319e-05, 'it': 0.003932875115424395, 'id': 0.00032589369220659137, 'hi': 5.311307904776186e-05, 'fi': 0.00017199188005179167, 'vi': 4.194464418105781e-05, 'he': 2.66999049927108e-05, 'uk': 3.3463707950431854e-05, 'el': 0.00035039594513364136, 'ms': 0.00011051067849621177, 'cs': 1.6082787624327466e-05, 'ro': 9.427577606402338e-05, 'da': 6.9617663029930554e-06, 'hu': 3.656509215943515e-05, 'ta': 5.239813617663458e-06, 'no': 6.100636710471008e-06, 'th': 6.347486487356946e-05, 'ur': 4.1984905692515895e-05, 'hr': 3.4916938602691516e-06, 'bg': 2.3265417894435814e-06, 'lt': 6.55198164167814e-07, 'la': 0.005002123769372702, 'mi': 7.62349518481642e-05, 'ml': 8.414906005782541e-06, 'cy': 0.00014103077410254627, 'sk': 1.5721194586149068e-06, 'te': 5.339034032658674e-06, 'fa': 1.711772165435832e-05, 'lv': 2.473403242220229e-07, 'bn': 4.72272040497046e-06, 'sr': 1.0916075154909777e-07, 'az': 9.188137539695163e-08, 'sl': 2.893109467549948e-06, 'kn': 5.168440608827041e-08, 'et': 1.5129158725812886e-07, 'mk': 3.3158368495378454e-08, 'br': 2.1389176254160702e-05, 'eu': 3.8639445847366005e-05, 'is': 2.570682909208699e-06, 'hy': 2.6173267997364746e-07, 'ne': 7.86350256021251e-07, 'mn': 2.154372850782238e-06, 'bs': 6.417722602236609e-07, 'kk': 7.170415727841828e-08, 'sq': 5.532197988600274e-08, 'sw': 3.5704285892279586e-06, 'gl': 0.00046299491077661514, 'mr': 1.740375807912642e-07, 'pa': 2.132491374595702e-07, 'si': 1.9612232335930457e-06, 'km': 9.258749196305871e-05, 'sn': 3.1467079679714516e-05, 'yo': 6.172361281642225e-06, 'so': 9.445089155235564e-09, 'af': 4.1578036302780674e-07, 'oc': 1.670815072429832e-05, 'ka': 1.7715557021347195e-08, 'be': 3.2694802030164283e-06, 'tg': 4.150486176968116e-09, 'sd': 4.6663794250889623e-07, 'gu': 9.4400096628533e-09, 'am': 1.27943993177837e-08, 'yi': 1.3317793445821735e-06, 'lo': 4.855432962358464e-07, 'uz': 9.246794996364827e-10, 'fo': 1.561358544677205e-06, 'ht': 1.3656257351613021e-06, 'ps': 4.203398020763416e-07, 'tk': 7.202239249437525e-09, 'nn': 0.0004566565330605954, 'mt': 2.1909782432771863e-08, 'sa': 1.656381027714815e-05, 'lb': 1.6065772046047755e-09, 'my': 3.0777671327086864e-06, 'bo': 1.0563289833953604e-06, 'tl': 0.00026505280402489007, 'mg': 1.4617153709650665e-08, 'as': 1.270085761007067e-07, 'tt': 5.480593756601593e-10, 'haw': 0.00045149301877245307, 'ln': 1.170500851799261e-07, 'ha': 7.054965056596529e-09, 'ba': 7.484945996338865e-09, 'jw': 0.0005478185485117137, 'su': 6.878758895823012e-09}\n",
      "The woman was almost six years old when the woman's cosy was open and bare. That's why, along with her title as an actress, people always used to add the term sexual symbol. One of the films that catapulted her fame was One Million Years Before Christ, in 1966. Her daughters were few, and as she herself recalled, her work was limited to running in a dress that barely covered her body and the middle of dinosaurs.\n"
     ]
    }
   ],
   "source": [
    "import whisper\n",
    "\n",
    "model = whisper.load_model(\"medium\")\n",
    "\n",
    "# load audio and pad/trim it to fit 30 seconds\n",
    "audio = whisper.load_audio(\"prueba2.mp3\")\n",
    "audio = whisper.pad_or_trim(audio)\n",
    "\n",
    "# make log-Mel spectrogram and move to the same device as the model\n",
    "mel = whisper.log_mel_spectrogram(audio).to(model.device)\n",
    "\n",
    "# detect the spoken language\n",
    "_, probs = model.detect_language(mel)\n",
    "print(f\"Detected language: {max(probs, key=probs.get)}\",probs)\n",
    "\n",
    "# decode the audio\n",
    "options = whisper.DecodingOptions(fp16 = False,language=\"en\")# since FP16 is not supported on my CPU i had to set it to false\n",
    "result = whisper.decode(model, mel, options)\n",
    "\n",
    "# print the recognized text\n",
    "print(result.text)"
   ]
  },
  {
   "attachments": {},
   "cell_type": "markdown",
   "metadata": {},
   "source": [
    "Now there´s a pretty uselful library if you want to transcribe audio from Youtube: Pytube, you can install it with: <br>\n",
    "`pip install pytube`<br>\n",
    "let´s see how it can be done"
   ]
  },
  {
   "cell_type": "code",
   "execution_count": 20,
   "metadata": {},
   "outputs": [
    {
     "name": "stderr",
     "output_type": "stream",
     "text": [
      "c:\\Users\\ccuartas\\AppData\\Local\\Programs\\Python\\venv_OpenAi\\lib\\site-packages\\whisper\\transcribe.py:114: UserWarning: FP16 is not supported on CPU; using FP32 instead\n",
      "  warnings.warn(\"FP16 is not supported on CPU; using FP32 instead\")\n"
     ]
    },
    {
     "name": "stdout",
     "output_type": "stream",
     "text": [
      " I Ain't that cool They'll be hanging me quick when I'm back from the dead Get the rope, get the rope, get the rope, get the rope I'm a punk rock hit, I came from hell with the curse She tried to play it away, so I fucked her in church Don't you know, don't you know, don't you know Yeah, don't you know They say, you're not safe here if I stay With a knife that's sharp, no way No, I need the broken hearted Oh no, look at the mess we started Oh no, I need the broken hearts this way What you say, you wanna play Yeah, don't be fooled, I'm only letting you down They pursued me on foot, but I hid in a crowd Like a ghost, like a ghost, like a ghost, like a ghost The seats of my car filled with cigarette burns I gotta burn my eye, a little blood on my shirt Let's hit the road, hit the road, hit the road, hit the road I know, there's a special place in hell That my friends and I know well There's a perfect place to go When it's time to lose control No, I need the broken hearted Oh no, look at the mess we started Oh no, I need the broken hearts this way What you say, you wanna play I know, there's a special place in hell That my friends and I know well No way, no, I need the broken hearted Oh no, look at the mess we started Oh no, I need the broken hearts this way Oh no, I need the broken hearted Oh no, look at the mess we started Oh no, I need the broken hearts this way What you say, every day It's a waste, you wanna play\n"
     ]
    }
   ],
   "source": [
    "import pytube\n",
    "test = pytube.YouTube('https://www.youtube.com/watch?v=7MI3buZedOw')\n",
    "audio = test.streams.get_audio_only()\n",
    "audio.download(filename='testyoutube.mp4')\n",
    "result = model.transcribe('testyoutube.mp4')\n",
    "with open(\"transcriptionyotube.txt\", \"w\", encoding=\"utf-8\") as txt:\n",
    "    txt.write(result[\"text\"])"
   ]
  },
  {
   "cell_type": "code",
   "execution_count": 130,
   "metadata": {},
   "outputs": [],
   "source": [
    "import subprocess\n",
    "import os\n",
    "import sys\n",
    "\n",
    "\n",
    "def convert_web_mp4_subprocess(input_file, output_file):# python codes taken from youtube video: https://www.youtube.com/watch?v=W7SIRsIAYao\n",
    "    try:\n",
    "        command = 'ffmpeg -i ' + input_file +\" \"+ output_file\n",
    "        subprocess.run(command)\n",
    "        pass\n",
    "    except:\n",
    "        print('error')\n"
   ]
  },
  {
   "cell_type": "code",
   "execution_count": 131,
   "metadata": {},
   "outputs": [],
   "source": [
    "convert_web_mp4_subprocess(r\"C:\\Users\\ccuartas\\Downloads\\Notebooks\\OpenAI_Whisper\\output.webm\",\n",
    "                           r\"C:\\Users\\ccuartas\\Downloads\\Notebooks\\OpenAI_Whisper\\test_output.mp4\")\n"
   ]
  },
  {
   "cell_type": "code",
   "execution_count": 5,
   "metadata": {},
   "outputs": [],
   "source": [
    "import os\n",
    "import subprocess\n",
    "import os\n",
    "import sys\n",
    "def convert_video_to_audio_ffmpeg(video_file, output_ext=\"mp3\"): # python codes taken from: https://www.thepythoncode.com/article/extract-audio-from-video-in-python\n",
    "    \"\"\"Converts video to audio directly using `ffmpeg` command\n",
    "    with the help of subprocess module\"\"\"\n",
    "    filename, ext = os.path.splitext(video_file)\n",
    "    subprocess.call([\"ffmpeg\", \"-y\", \"-i\", video_file, f\"{filename}.{output_ext}\"],\n",
    "                    stdout=subprocess.DEVNULL,\n",
    "                    stderr=subprocess.STDOUT)\n",
    "if __name__ == \"__main__\":\n",
    "    vf = sys.argv[1]\n",
    "    convert_video_to_audio_ffmpeg(vf)\n",
    "    \n"
   ]
  },
  {
   "cell_type": "code",
   "execution_count": 7,
   "metadata": {},
   "outputs": [],
   "source": [
    "convert_video_to_audio_ffmpeg(\"testmp4.mp4\")"
   ]
  }
 ],
 "metadata": {
  "kernelspec": {
   "display_name": "venv_OpenAi",
   "language": "python",
   "name": "python3"
  },
  "language_info": {
   "codemirror_mode": {
    "name": "ipython",
    "version": 3
   },
   "file_extension": ".py",
   "mimetype": "text/x-python",
   "name": "python",
   "nbconvert_exporter": "python",
   "pygments_lexer": "ipython3",
   "version": "3.9.9"
  },
  "orig_nbformat": 4
 },
 "nbformat": 4,
 "nbformat_minor": 2
}
